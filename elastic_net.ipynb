{
 "cells": [
  {
   "cell_type": "markdown",
   "metadata": {},
   "source": [
    "# Description\n",
    "\n",
    "Machine learning algorithm using Elastic-Net regression.\n",
    "\n",
    "## Import Libraries"
   ]
  },
  {
   "cell_type": "code",
   "execution_count": 1,
   "metadata": {},
   "outputs": [],
   "source": [
    "import pandas as pd # library for data manipulation (dataframes)\n",
    "import numpy as np # library for computations\n",
    "import matplotlib.pyplot as plt # library for visualization\n",
    "from sklearn.linear_model import ElasticNet  # library for machine learning methods\n",
    "from sklearn.linear_model import ElasticNetCV# library for machine learning methods\n",
    "import xlsxwriter as xlsw # library for exporting excel files"
   ]
  },
  {
   "cell_type": "markdown",
   "metadata": {},
   "source": [
    "## Definition for Importing Data"
   ]
  },
  {
   "cell_type": "code",
   "execution_count": 2,
   "metadata": {},
   "outputs": [],
   "source": [
    "def import_data(file_location, sheet):\n",
    "    \"\"\"This function returns data read from an xlsx file from a specific table.\n",
    "    The sheet inside the file must include a '#' as the origin of the table.\n",
    "    \"\"\"\n",
    "    #read data table from file\n",
    "    values = pd.read_excel(file_location, sheet_name=sheet)\n",
    "    #set origin of table at '#'\n",
    "    values.set_index('#', inplace=True)\n",
    "    return values"
   ]
  },
  {
   "cell_type": "markdown",
   "metadata": {},
   "source": [
    "## Import Trainning Data"
   ]
  },
  {
   "cell_type": "markdown",
   "metadata": {},
   "source": [
    "Assign address for trainning data table to variable ('x' values).\n",
    "This set represents quantitative data for a group of units.\n",
    "In this example the units are buildings and the data for each\n",
    "building are NORMALIZED measurements such as areas, connectivity\n",
    "between spaces, visibility inside spaces, etc."
   ]
  },
  {
   "cell_type": "code",
   "execution_count": 3,
   "metadata": {},
   "outputs": [],
   "source": [
    "x_values = import_data('quant_data_example.xlsx', 'trainning_set')"
   ]
  },
  {
   "cell_type": "markdown",
   "metadata": {},
   "source": [
    "Print data table."
   ]
  },
  {
   "cell_type": "code",
   "execution_count": 4,
   "metadata": {},
   "outputs": [
    {
     "data": {
      "text/html": [
       "<div>\n",
       "<style scoped>\n",
       "    .dataframe tbody tr th:only-of-type {\n",
       "        vertical-align: middle;\n",
       "    }\n",
       "\n",
       "    .dataframe tbody tr th {\n",
       "        vertical-align: top;\n",
       "    }\n",
       "\n",
       "    .dataframe thead th {\n",
       "        text-align: right;\n",
       "    }\n",
       "</style>\n",
       "<table border=\"1\" class=\"dataframe\">\n",
       "  <thead>\n",
       "    <tr style=\"text-align: right;\">\n",
       "      <th></th>\n",
       "      <th>Type01Area</th>\n",
       "      <th>Type01Integration</th>\n",
       "      <th>Type01Entropy</th>\n",
       "      <th>Type01Control</th>\n",
       "      <th>Type01Choice</th>\n",
       "      <th>Type01IsoArea</th>\n",
       "      <th>Type01IsoPerim</th>\n",
       "      <th>Type01IsoOclu</th>\n",
       "      <th>Type02Area</th>\n",
       "      <th>Type02Integration</th>\n",
       "      <th>...</th>\n",
       "      <th>Type05IsoPerim</th>\n",
       "      <th>Type05IsoOclu</th>\n",
       "      <th>Type06Area</th>\n",
       "      <th>Type06Integration</th>\n",
       "      <th>Type06Entropy</th>\n",
       "      <th>Type06Control</th>\n",
       "      <th>Type06Choice</th>\n",
       "      <th>Type06IsoArea</th>\n",
       "      <th>Type06IsoPerim</th>\n",
       "      <th>Type06IsoOclu</th>\n",
       "    </tr>\n",
       "    <tr>\n",
       "      <th>#</th>\n",
       "      <th></th>\n",
       "      <th></th>\n",
       "      <th></th>\n",
       "      <th></th>\n",
       "      <th></th>\n",
       "      <th></th>\n",
       "      <th></th>\n",
       "      <th></th>\n",
       "      <th></th>\n",
       "      <th></th>\n",
       "      <th></th>\n",
       "      <th></th>\n",
       "      <th></th>\n",
       "      <th></th>\n",
       "      <th></th>\n",
       "      <th></th>\n",
       "      <th></th>\n",
       "      <th></th>\n",
       "      <th></th>\n",
       "      <th></th>\n",
       "      <th></th>\n",
       "    </tr>\n",
       "  </thead>\n",
       "  <tbody>\n",
       "    <tr>\n",
       "      <th>building 01</th>\n",
       "      <td>0.3268</td>\n",
       "      <td>0.8130</td>\n",
       "      <td>0.6042</td>\n",
       "      <td>0.2189</td>\n",
       "      <td>0.7927</td>\n",
       "      <td>1.0000</td>\n",
       "      <td>1.0000</td>\n",
       "      <td>0.6138</td>\n",
       "      <td>0.2250</td>\n",
       "      <td>0.8849</td>\n",
       "      <td>...</td>\n",
       "      <td>0.1151</td>\n",
       "      <td>0.0071</td>\n",
       "      <td>0.0562</td>\n",
       "      <td>0.6846</td>\n",
       "      <td>0.7077</td>\n",
       "      <td>0.5101</td>\n",
       "      <td>0.6811</td>\n",
       "      <td>0.0252</td>\n",
       "      <td>0.0578</td>\n",
       "      <td>0.0074</td>\n",
       "    </tr>\n",
       "    <tr>\n",
       "      <th>building 02</th>\n",
       "      <td>0.5315</td>\n",
       "      <td>1.0000</td>\n",
       "      <td>0.2517</td>\n",
       "      <td>0.3264</td>\n",
       "      <td>0.2048</td>\n",
       "      <td>0.1912</td>\n",
       "      <td>0.3008</td>\n",
       "      <td>1.0000</td>\n",
       "      <td>0.5730</td>\n",
       "      <td>0.6173</td>\n",
       "      <td>...</td>\n",
       "      <td>0.0088</td>\n",
       "      <td>0.0017</td>\n",
       "      <td>0.1638</td>\n",
       "      <td>0.7126</td>\n",
       "      <td>0.3571</td>\n",
       "      <td>0.5217</td>\n",
       "      <td>0.2142</td>\n",
       "      <td>0.0040</td>\n",
       "      <td>0.0132</td>\n",
       "      <td>0.0020</td>\n",
       "    </tr>\n",
       "    <tr>\n",
       "      <th>building 03</th>\n",
       "      <td>1.0000</td>\n",
       "      <td>0.8907</td>\n",
       "      <td>0.8582</td>\n",
       "      <td>0.5267</td>\n",
       "      <td>0.7560</td>\n",
       "      <td>0.4752</td>\n",
       "      <td>0.5688</td>\n",
       "      <td>0.3545</td>\n",
       "      <td>0.4487</td>\n",
       "      <td>0.5113</td>\n",
       "      <td>...</td>\n",
       "      <td>0.1483</td>\n",
       "      <td>0.1327</td>\n",
       "      <td>0.4380</td>\n",
       "      <td>0.9911</td>\n",
       "      <td>0.7883</td>\n",
       "      <td>0.9710</td>\n",
       "      <td>0.7387</td>\n",
       "      <td>0.0573</td>\n",
       "      <td>0.1119</td>\n",
       "      <td>0.0369</td>\n",
       "    </tr>\n",
       "    <tr>\n",
       "      <th>building 04</th>\n",
       "      <td>0.6187</td>\n",
       "      <td>0.6493</td>\n",
       "      <td>0.6915</td>\n",
       "      <td>0.2182</td>\n",
       "      <td>0.2445</td>\n",
       "      <td>0.2112</td>\n",
       "      <td>0.2746</td>\n",
       "      <td>0.0178</td>\n",
       "      <td>0.5990</td>\n",
       "      <td>0.6483</td>\n",
       "      <td>...</td>\n",
       "      <td>0.1135</td>\n",
       "      <td>0.0924</td>\n",
       "      <td>0.4273</td>\n",
       "      <td>0.8558</td>\n",
       "      <td>0.7782</td>\n",
       "      <td>0.5072</td>\n",
       "      <td>0.8292</td>\n",
       "      <td>0.0356</td>\n",
       "      <td>0.0802</td>\n",
       "      <td>0.0125</td>\n",
       "    </tr>\n",
       "    <tr>\n",
       "      <th>building 05</th>\n",
       "      <td>0.3755</td>\n",
       "      <td>0.4120</td>\n",
       "      <td>0.4309</td>\n",
       "      <td>0.2839</td>\n",
       "      <td>0.2430</td>\n",
       "      <td>0.1067</td>\n",
       "      <td>0.1492</td>\n",
       "      <td>0.0008</td>\n",
       "      <td>1.0000</td>\n",
       "      <td>1.0000</td>\n",
       "      <td>...</td>\n",
       "      <td>0.5091</td>\n",
       "      <td>0.9143</td>\n",
       "      <td>1.0000</td>\n",
       "      <td>1.0000</td>\n",
       "      <td>1.0000</td>\n",
       "      <td>1.0000</td>\n",
       "      <td>1.0000</td>\n",
       "      <td>1.0000</td>\n",
       "      <td>1.0000</td>\n",
       "      <td>1.0000</td>\n",
       "    </tr>\n",
       "    <tr>\n",
       "      <th>building 06</th>\n",
       "      <td>0.1771</td>\n",
       "      <td>0.7367</td>\n",
       "      <td>1.0000</td>\n",
       "      <td>1.0000</td>\n",
       "      <td>1.0000</td>\n",
       "      <td>0.4612</td>\n",
       "      <td>0.6002</td>\n",
       "      <td>0.2352</td>\n",
       "      <td>0.0387</td>\n",
       "      <td>0.3131</td>\n",
       "      <td>...</td>\n",
       "      <td>1.0000</td>\n",
       "      <td>1.0000</td>\n",
       "      <td>0.0230</td>\n",
       "      <td>0.4560</td>\n",
       "      <td>0.5149</td>\n",
       "      <td>0.2319</td>\n",
       "      <td>0.2972</td>\n",
       "      <td>0.0040</td>\n",
       "      <td>0.0129</td>\n",
       "      <td>0.0000</td>\n",
       "    </tr>\n",
       "  </tbody>\n",
       "</table>\n",
       "<p>6 rows × 48 columns</p>\n",
       "</div>"
      ],
      "text/plain": [
       "             Type01Area  Type01Integration  Type01Entropy  Type01Control  \\\n",
       "#                                                                          \n",
       "building 01      0.3268             0.8130         0.6042         0.2189   \n",
       "building 02      0.5315             1.0000         0.2517         0.3264   \n",
       "building 03      1.0000             0.8907         0.8582         0.5267   \n",
       "building 04      0.6187             0.6493         0.6915         0.2182   \n",
       "building 05      0.3755             0.4120         0.4309         0.2839   \n",
       "building 06      0.1771             0.7367         1.0000         1.0000   \n",
       "\n",
       "             Type01Choice  Type01IsoArea  Type01IsoPerim  Type01IsoOclu  \\\n",
       "#                                                                         \n",
       "building 01        0.7927         1.0000          1.0000         0.6138   \n",
       "building 02        0.2048         0.1912          0.3008         1.0000   \n",
       "building 03        0.7560         0.4752          0.5688         0.3545   \n",
       "building 04        0.2445         0.2112          0.2746         0.0178   \n",
       "building 05        0.2430         0.1067          0.1492         0.0008   \n",
       "building 06        1.0000         0.4612          0.6002         0.2352   \n",
       "\n",
       "             Type02Area  Type02Integration  ...  Type05IsoPerim  \\\n",
       "#                                           ...                   \n",
       "building 01      0.2250             0.8849  ...          0.1151   \n",
       "building 02      0.5730             0.6173  ...          0.0088   \n",
       "building 03      0.4487             0.5113  ...          0.1483   \n",
       "building 04      0.5990             0.6483  ...          0.1135   \n",
       "building 05      1.0000             1.0000  ...          0.5091   \n",
       "building 06      0.0387             0.3131  ...          1.0000   \n",
       "\n",
       "             Type05IsoOclu  Type06Area  Type06Integration  Type06Entropy  \\\n",
       "#                                                                          \n",
       "building 01         0.0071      0.0562             0.6846         0.7077   \n",
       "building 02         0.0017      0.1638             0.7126         0.3571   \n",
       "building 03         0.1327      0.4380             0.9911         0.7883   \n",
       "building 04         0.0924      0.4273             0.8558         0.7782   \n",
       "building 05         0.9143      1.0000             1.0000         1.0000   \n",
       "building 06         1.0000      0.0230             0.4560         0.5149   \n",
       "\n",
       "             Type06Control  Type06Choice  Type06IsoArea  Type06IsoPerim  \\\n",
       "#                                                                         \n",
       "building 01         0.5101        0.6811         0.0252          0.0578   \n",
       "building 02         0.5217        0.2142         0.0040          0.0132   \n",
       "building 03         0.9710        0.7387         0.0573          0.1119   \n",
       "building 04         0.5072        0.8292         0.0356          0.0802   \n",
       "building 05         1.0000        1.0000         1.0000          1.0000   \n",
       "building 06         0.2319        0.2972         0.0040          0.0129   \n",
       "\n",
       "             Type06IsoOclu  \n",
       "#                           \n",
       "building 01         0.0074  \n",
       "building 02         0.0020  \n",
       "building 03         0.0369  \n",
       "building 04         0.0125  \n",
       "building 05         1.0000  \n",
       "building 06         0.0000  \n",
       "\n",
       "[6 rows x 48 columns]"
      ]
     },
     "execution_count": 4,
     "metadata": {},
     "output_type": "execute_result"
    }
   ],
   "source": [
    "x_values"
   ]
  },
  {
   "cell_type": "markdown",
   "metadata": {},
   "source": [
    "## Import Labels"
   ]
  },
  {
   "cell_type": "markdown",
   "metadata": {},
   "source": [
    "Assign address for data table from labels to variable ('y' values).\n",
    "This set represents the labels by which the quant data\n",
    "will be trainned. In this case these are scores extracted\n",
    "from a survey, using a phenomenological approach, about\n",
    "the different buildings from 1 to 5.\n",
    "The scores were separated into different fields such as\n",
    "orientation, circulation, hierarchy of spaces, etc."
   ]
  },
  {
   "cell_type": "code",
   "execution_count": 5,
   "metadata": {},
   "outputs": [],
   "source": [
    "y_values = import_data('labels_example.xlsx', 'trainning_labels')"
   ]
  },
  {
   "cell_type": "markdown",
   "metadata": {},
   "source": [
    "Print data table."
   ]
  },
  {
   "cell_type": "code",
   "execution_count": 6,
   "metadata": {},
   "outputs": [
    {
     "data": {
      "text/html": [
       "<div>\n",
       "<style scoped>\n",
       "    .dataframe tbody tr th:only-of-type {\n",
       "        vertical-align: middle;\n",
       "    }\n",
       "\n",
       "    .dataframe tbody tr th {\n",
       "        vertical-align: top;\n",
       "    }\n",
       "\n",
       "    .dataframe thead th {\n",
       "        text-align: right;\n",
       "    }\n",
       "</style>\n",
       "<table border=\"1\" class=\"dataframe\">\n",
       "  <thead>\n",
       "    <tr style=\"text-align: right;\">\n",
       "      <th></th>\n",
       "      <th>Hierarchy</th>\n",
       "      <th>Circulation</th>\n",
       "      <th>Efficiency</th>\n",
       "      <th>Proportion</th>\n",
       "      <th>Kitchen</th>\n",
       "      <th>Outdoor</th>\n",
       "      <th>Orientation</th>\n",
       "      <th>Overall</th>\n",
       "    </tr>\n",
       "    <tr>\n",
       "      <th>#</th>\n",
       "      <th></th>\n",
       "      <th></th>\n",
       "      <th></th>\n",
       "      <th></th>\n",
       "      <th></th>\n",
       "      <th></th>\n",
       "      <th></th>\n",
       "      <th></th>\n",
       "    </tr>\n",
       "  </thead>\n",
       "  <tbody>\n",
       "    <tr>\n",
       "      <th>building 01</th>\n",
       "      <td>2.56</td>\n",
       "      <td>2.44</td>\n",
       "      <td>2.56</td>\n",
       "      <td>2.44</td>\n",
       "      <td>2.56</td>\n",
       "      <td>2.33</td>\n",
       "      <td>3.11</td>\n",
       "      <td>2.44</td>\n",
       "    </tr>\n",
       "    <tr>\n",
       "      <th>building 02</th>\n",
       "      <td>3.56</td>\n",
       "      <td>3.78</td>\n",
       "      <td>3.78</td>\n",
       "      <td>3.89</td>\n",
       "      <td>3.33</td>\n",
       "      <td>2.89</td>\n",
       "      <td>3.56</td>\n",
       "      <td>3.56</td>\n",
       "    </tr>\n",
       "    <tr>\n",
       "      <th>building 03</th>\n",
       "      <td>3.00</td>\n",
       "      <td>3.11</td>\n",
       "      <td>3.11</td>\n",
       "      <td>3.11</td>\n",
       "      <td>3.33</td>\n",
       "      <td>2.22</td>\n",
       "      <td>2.89</td>\n",
       "      <td>2.78</td>\n",
       "    </tr>\n",
       "    <tr>\n",
       "      <th>building 04</th>\n",
       "      <td>2.33</td>\n",
       "      <td>2.67</td>\n",
       "      <td>3.00</td>\n",
       "      <td>3.22</td>\n",
       "      <td>3.22</td>\n",
       "      <td>2.00</td>\n",
       "      <td>2.89</td>\n",
       "      <td>2.56</td>\n",
       "    </tr>\n",
       "    <tr>\n",
       "      <th>building 05</th>\n",
       "      <td>3.78</td>\n",
       "      <td>4.00</td>\n",
       "      <td>3.22</td>\n",
       "      <td>3.33</td>\n",
       "      <td>3.44</td>\n",
       "      <td>3.78</td>\n",
       "      <td>3.11</td>\n",
       "      <td>3.89</td>\n",
       "    </tr>\n",
       "    <tr>\n",
       "      <th>building 06</th>\n",
       "      <td>3.56</td>\n",
       "      <td>3.44</td>\n",
       "      <td>3.44</td>\n",
       "      <td>3.67</td>\n",
       "      <td>3.89</td>\n",
       "      <td>4.11</td>\n",
       "      <td>3.67</td>\n",
       "      <td>3.56</td>\n",
       "    </tr>\n",
       "  </tbody>\n",
       "</table>\n",
       "</div>"
      ],
      "text/plain": [
       "             Hierarchy  Circulation  Efficiency  Proportion  Kitchen  Outdoor  \\\n",
       "#                                                                               \n",
       "building 01       2.56         2.44        2.56        2.44     2.56     2.33   \n",
       "building 02       3.56         3.78        3.78        3.89     3.33     2.89   \n",
       "building 03       3.00         3.11        3.11        3.11     3.33     2.22   \n",
       "building 04       2.33         2.67        3.00        3.22     3.22     2.00   \n",
       "building 05       3.78         4.00        3.22        3.33     3.44     3.78   \n",
       "building 06       3.56         3.44        3.44        3.67     3.89     4.11   \n",
       "\n",
       "             Orientation  Overall  \n",
       "#                                  \n",
       "building 01         3.11     2.44  \n",
       "building 02         3.56     3.56  \n",
       "building 03         2.89     2.78  \n",
       "building 04         2.89     2.56  \n",
       "building 05         3.11     3.89  \n",
       "building 06         3.67     3.56  "
      ]
     },
     "execution_count": 6,
     "metadata": {},
     "output_type": "execute_result"
    }
   ],
   "source": [
    "y_values"
   ]
  },
  {
   "cell_type": "markdown",
   "metadata": {},
   "source": [
    "## Import Testing Data"
   ]
  },
  {
   "cell_type": "markdown",
   "metadata": {},
   "source": [
    "Read data table from excel file."
   ]
  },
  {
   "cell_type": "code",
   "execution_count": 7,
   "metadata": {},
   "outputs": [],
   "source": [
    "testing_data = import_data('quant_data_example.xlsx', 'testing_set')"
   ]
  },
  {
   "cell_type": "markdown",
   "metadata": {},
   "source": [
    "Print data table."
   ]
  },
  {
   "cell_type": "code",
   "execution_count": 8,
   "metadata": {},
   "outputs": [
    {
     "data": {
      "text/html": [
       "<div>\n",
       "<style scoped>\n",
       "    .dataframe tbody tr th:only-of-type {\n",
       "        vertical-align: middle;\n",
       "    }\n",
       "\n",
       "    .dataframe tbody tr th {\n",
       "        vertical-align: top;\n",
       "    }\n",
       "\n",
       "    .dataframe thead th {\n",
       "        text-align: right;\n",
       "    }\n",
       "</style>\n",
       "<table border=\"1\" class=\"dataframe\">\n",
       "  <thead>\n",
       "    <tr style=\"text-align: right;\">\n",
       "      <th></th>\n",
       "      <th>Type01Area</th>\n",
       "      <th>Type01Integration</th>\n",
       "      <th>Type01Entropy</th>\n",
       "      <th>Type01Control</th>\n",
       "      <th>Type01Choice</th>\n",
       "      <th>Type01IsoArea</th>\n",
       "      <th>Type01IsoPerim</th>\n",
       "      <th>Type01IsoOclu</th>\n",
       "      <th>Type02Area</th>\n",
       "      <th>Type02Integration</th>\n",
       "      <th>...</th>\n",
       "      <th>Type05IsoPerim</th>\n",
       "      <th>Type05IsoOclu</th>\n",
       "      <th>Type06Area</th>\n",
       "      <th>Type06Integration</th>\n",
       "      <th>Type06Entropy</th>\n",
       "      <th>Type06Control</th>\n",
       "      <th>Type06Choice</th>\n",
       "      <th>Type06IsoArea</th>\n",
       "      <th>Type06IsoPerim</th>\n",
       "      <th>Type06IsoOclu</th>\n",
       "    </tr>\n",
       "    <tr>\n",
       "      <th>#</th>\n",
       "      <th></th>\n",
       "      <th></th>\n",
       "      <th></th>\n",
       "      <th></th>\n",
       "      <th></th>\n",
       "      <th></th>\n",
       "      <th></th>\n",
       "      <th></th>\n",
       "      <th></th>\n",
       "      <th></th>\n",
       "      <th></th>\n",
       "      <th></th>\n",
       "      <th></th>\n",
       "      <th></th>\n",
       "      <th></th>\n",
       "      <th></th>\n",
       "      <th></th>\n",
       "      <th></th>\n",
       "      <th></th>\n",
       "      <th></th>\n",
       "      <th></th>\n",
       "    </tr>\n",
       "  </thead>\n",
       "  <tbody>\n",
       "    <tr>\n",
       "      <th>test building</th>\n",
       "      <td>0.5516</td>\n",
       "      <td>0.7514</td>\n",
       "      <td>0.9693</td>\n",
       "      <td>0.3516</td>\n",
       "      <td>0.4267</td>\n",
       "      <td>0.1355</td>\n",
       "      <td>0.1869</td>\n",
       "      <td>0.0066</td>\n",
       "      <td>0.763</td>\n",
       "      <td>0.6228</td>\n",
       "      <td>...</td>\n",
       "      <td>0.5629</td>\n",
       "      <td>0.0428</td>\n",
       "      <td>0.6003</td>\n",
       "      <td>0.7838</td>\n",
       "      <td>0.8933</td>\n",
       "      <td>1</td>\n",
       "      <td>1</td>\n",
       "      <td>0.0265</td>\n",
       "      <td>0.0635</td>\n",
       "      <td>0.0003</td>\n",
       "    </tr>\n",
       "  </tbody>\n",
       "</table>\n",
       "<p>1 rows × 48 columns</p>\n",
       "</div>"
      ],
      "text/plain": [
       "               Type01Area  Type01Integration  Type01Entropy  Type01Control  \\\n",
       "#                                                                            \n",
       "test building      0.5516             0.7514         0.9693         0.3516   \n",
       "\n",
       "               Type01Choice  Type01IsoArea  Type01IsoPerim  Type01IsoOclu  \\\n",
       "#                                                                           \n",
       "test building        0.4267         0.1355          0.1869         0.0066   \n",
       "\n",
       "               Type02Area  Type02Integration  ...  Type05IsoPerim  \\\n",
       "#                                             ...                   \n",
       "test building       0.763             0.6228  ...          0.5629   \n",
       "\n",
       "               Type05IsoOclu  Type06Area  Type06Integration  Type06Entropy  \\\n",
       "#                                                                            \n",
       "test building         0.0428      0.6003             0.7838         0.8933   \n",
       "\n",
       "               Type06Control  Type06Choice  Type06IsoArea  Type06IsoPerim  \\\n",
       "#                                                                           \n",
       "test building              1             1         0.0265          0.0635   \n",
       "\n",
       "               Type06IsoOclu  \n",
       "#                             \n",
       "test building         0.0003  \n",
       "\n",
       "[1 rows x 48 columns]"
      ]
     },
     "execution_count": 8,
     "metadata": {},
     "output_type": "execute_result"
    }
   ],
   "source": [
    "testing_data"
   ]
  },
  {
   "cell_type": "markdown",
   "metadata": {},
   "source": [
    "# ML Models (Elastic Net)"
   ]
  },
  {
   "cell_type": "markdown",
   "metadata": {},
   "source": [
    "## Elastic Net Definition"
   ]
  },
  {
   "cell_type": "code",
   "execution_count": 9,
   "metadata": {},
   "outputs": [],
   "source": [
    "def elastic_net(x, y, cross_validation):\n",
    "    \"\"\"This function returns a trainned model from a data set ('x') based on a label ('y').\n",
    "    The variable 'round_integer' defines the precision for coefficients for each variable 'x' for every 'y'.\n",
    "    The variable 'cross_validation' defines the number of group samples k for cross validation.\n",
    "    \"\"\"\n",
    "    trainned_model_cross = ElasticNetCV(cv=cross_validation, random_state=0).fit(x, y)\n",
    "    trainned_model = ElasticNet(alpha = trainned_model_cross.alpha_).fit(x, y)\n",
    "    return trainned_model"
   ]
  },
  {
   "cell_type": "markdown",
   "metadata": {},
   "source": [
    "## Prediction"
   ]
  },
  {
   "cell_type": "markdown",
   "metadata": {},
   "source": [
    "Taking the label \"Hierarchy\" from the example labels, lets train the model and predict the score of the test building for \"Hierarchy\"."
   ]
  },
  {
   "cell_type": "code",
   "execution_count": 10,
   "metadata": {},
   "outputs": [],
   "source": [
    "trainned_model = elastic_net(x_values, y_values.Hierarchy, 6)"
   ]
  },
  {
   "cell_type": "markdown",
   "metadata": {},
   "source": [
    "Plot the coefficients of the trainned model"
   ]
  },
  {
   "cell_type": "code",
   "execution_count": 11,
   "metadata": {},
   "outputs": [
    {
     "data": {
      "text/plain": [
       "array([-0., -0., -0.,  0., -0., -0., -0.,  0.,  0., -0., -0., -0., -0.,\n",
       "        0.,  0.,  0., -0., -0., -0.,  0., -0., -0., -0.,  0., -0., -0.,\n",
       "       -0., -0., -0., -0., -0., -0.,  0.,  0., -0.,  0.,  0.,  0.,  0.,\n",
       "        0.,  0., -0., -0.,  0., -0.,  0.,  0.,  0.])"
      ]
     },
     "execution_count": 11,
     "metadata": {},
     "output_type": "execute_result"
    }
   ],
   "source": [
    "np.round(trainned_model.coef_, 4)"
   ]
  },
  {
   "cell_type": "markdown",
   "metadata": {},
   "source": [
    "Predict the score test building"
   ]
  },
  {
   "cell_type": "code",
   "execution_count": 12,
   "metadata": {},
   "outputs": [
    {
     "data": {
      "text/plain": [
       "array([3.13166667])"
      ]
     },
     "execution_count": 12,
     "metadata": {},
     "output_type": "execute_result"
    }
   ],
   "source": [
    "trainned_model.predict(testing_data)"
   ]
  },
  {
   "cell_type": "markdown",
   "metadata": {},
   "source": [
    "# Conclusion"
   ]
  },
  {
   "cell_type": "markdown",
   "metadata": {},
   "source": [
    "After trainning the model for the specific label \"Hierarchy\", the score for that label for the test building is 3.13 out of 5.00"
   ]
  },
  {
   "cell_type": "code",
   "execution_count": null,
   "metadata": {},
   "outputs": [],
   "source": []
  }
 ],
 "metadata": {
  "kernelspec": {
   "display_name": "Python 3",
   "language": "python",
   "name": "python3"
  },
  "language_info": {
   "codemirror_mode": {
    "name": "ipython",
    "version": 3
   },
   "file_extension": ".py",
   "mimetype": "text/x-python",
   "name": "python",
   "nbconvert_exporter": "python",
   "pygments_lexer": "ipython3",
   "version": "3.8.5"
  }
 },
 "nbformat": 4,
 "nbformat_minor": 4
}
